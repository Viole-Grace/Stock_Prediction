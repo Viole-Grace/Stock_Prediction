{
 "cells": [
  {
   "cell_type": "code",
   "execution_count": 14,
   "metadata": {},
   "outputs": [],
   "source": [
    "import pandas as pd\n",
    "pd.core.common.is_list_like = pd.api.types.is_list_like\n",
    "from pandas_datareader import data as pdr\n",
    "import matplotlib.pyplot as plt \n",
    "import fix_yahoo_finance as yf"
   ]
  },
  {
   "cell_type": "code",
   "execution_count": null,
   "metadata": {},
   "outputs": [],
   "source": [
    "yf.pdr_override()\n",
    "Df = pdr.get_data_yahoo('GLD','2008-01-01','2018-08-10')\n",
    "#alternately, you can try : Df=yf.download('GLD',start='2008-01-01',end='2018-01-01')\n",
    "Df=Df[['Close']] \n",
    "Df= Df.dropna() \n",
    "Df.Close.plot(figsize=(10,5)) \n",
    "plt.ylabel(\"Gold ETF Prices\")\n",
    "plt.show()"
   ]
  },
  {
   "cell_type": "code",
   "execution_count": null,
   "metadata": {},
   "outputs": [],
   "source": [
    "Df['S_3'] = Df['Close'].shift(1).rolling(window=3).mean() \n",
    "Df['S_9']= Df['Close'].shift(1).rolling(window=9).mean() \n",
    "Df= Df.dropna() "
   ]
  },
  {
   "cell_type": "code",
   "execution_count": null,
   "metadata": {},
   "outputs": [],
   "source": [
    "X = Df[['S_3','S_9']] \n",
    "X.head()\n",
    "\n",
    "y = Df['Close']\n",
    "y.head()"
   ]
  },
  {
   "cell_type": "code",
   "execution_count": null,
   "metadata": {},
   "outputs": [],
   "source": [
    "from sklearn.cross_validation import train_test_split\n",
    "X_train, X_test, y_train, y_test = train_test_split(X, y, test_size=0.2, random_state=0)"
   ]
  },
  {
   "cell_type": "code",
   "execution_count": null,
   "metadata": {},
   "outputs": [],
   "source": [
    "from sklearn.linear_model import LinearRegression \n",
    "\n",
    "linear = LinearRegression().fit(X_train,y_train) \n",
    "predicted_price = linear.predict(X_test)  \n",
    "predicted_price = pd.DataFrame(predicted_price,index=y_test.index,columns = ['Price'])  \n",
    "predicted_price.plot(figsize=(10,5))  \n",
    "y_test.plot()  \n",
    "plt.legend(['Predicted_price','Actual_price'])  \n",
    "plt.ylabel(\"Gold ETF Price\")  \n",
    "plt.show()\n",
    "predicted_price = linear.predict(X_test)  \n",
    "predicted_price = pd.DataFrame(predicted_price,index=y_test.index,columns = ['Price'])  \n",
    "predicted_price.plot(figsize=(10,5))  \n",
    "y_test.plot()  \n",
    "plt.legend(['Predicted_price','Actual_price'])  \n",
    "plt.ylabel(\"Gold ETF Price\")  \n",
    "plt.show()"
   ]
  },
  {
   "cell_type": "code",
   "execution_count": null,
   "metadata": {},
   "outputs": [],
   "source": [
    "r2_score = linear.score(X_test,y_test)*100\n",
    "float(\"{0:.2f}\".format(r2_score))"
   ]
  },
  {
   "cell_type": "code",
   "execution_count": null,
   "metadata": {},
   "outputs": [],
   "source": [
    "#Check r^2 score to see the accuracy limit for actual vs predicted."
   ]
  }
 ],
 "metadata": {
  "kernelspec": {
   "display_name": "Python 2",
   "language": "python",
   "name": "python2"
  },
  "language_info": {
   "codemirror_mode": {
    "name": "ipython",
    "version": 2
   },
   "file_extension": ".py",
   "mimetype": "text/x-python",
   "name": "python",
   "nbconvert_exporter": "python",
   "pygments_lexer": "ipython2",
   "version": "2.7.12"
  }
 },
 "nbformat": 4,
 "nbformat_minor": 2
}
